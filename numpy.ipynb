{
 "cells": [
  {
   "cell_type": "markdown",
   "metadata": {},
   "source": [
    "# basics of numpy"
   ]
  },
  {
   "cell_type": "code",
   "execution_count": 1,
   "metadata": {},
   "outputs": [],
   "source": [
    "#import library\n",
    "#pip install numpy (uncomment to install the numpy library)\n",
    "import numpy as np"
   ]
  },
  {
   "cell_type": "code",
   "execution_count": 2,
   "metadata": {},
   "outputs": [
    {
     "data": {
      "text/plain": [
       "array([1, 2, 3, 4, 5])"
      ]
     },
     "execution_count": 2,
     "metadata": {},
     "output_type": "execute_result"
    }
   ],
   "source": [
    "#1D array\n",
    "arr_1 = np.array([1,2,3,4,5])\n",
    "arr_1"
   ]
  },
  {
   "cell_type": "code",
   "execution_count": 3,
   "metadata": {},
   "outputs": [
    {
     "data": {
      "text/plain": [
       "array([[ 1,  2,  3,  4,  5],\n",
       "       [ 6,  2,  8,  4, 10]])"
      ]
     },
     "execution_count": 3,
     "metadata": {},
     "output_type": "execute_result"
    }
   ],
   "source": [
    "#2D array also called matrix\n",
    "arr_2 = np.array([[1,2,3,4,5],[6,2,8,4,10]])\n",
    "arr_2"
   ]
  },
  {
   "cell_type": "code",
   "execution_count": 4,
   "metadata": {},
   "outputs": [
    {
     "data": {
      "text/plain": [
       "2"
      ]
     },
     "execution_count": 4,
     "metadata": {},
     "output_type": "execute_result"
    }
   ],
   "source": [
    "#cheak dimensions\n",
    "arr_2.ndim"
   ]
  },
  {
   "cell_type": "code",
   "execution_count": 5,
   "metadata": {},
   "outputs": [
    {
     "name": "stdout",
     "output_type": "stream",
     "text": [
      "class:  ndarray\n",
      "shape:  (2, 5)\n",
      "strides:  (20, 4)\n",
      "itemsize:  4\n",
      "aligned:  True\n",
      "contiguous:  True\n",
      "fortran:  False\n",
      "data pointer: 0x210ce1bf0a0\n",
      "byteorder:  little\n",
      "byteswap:  False\n",
      "type: int32\n"
     ]
    }
   ],
   "source": [
    "#detail of array\n",
    "np.info(arr_2)"
   ]
  },
  {
   "cell_type": "code",
   "execution_count": 6,
   "metadata": {},
   "outputs": [
    {
     "data": {
      "text/plain": [
       "(2, 5)"
      ]
     },
     "execution_count": 6,
     "metadata": {},
     "output_type": "execute_result"
    }
   ],
   "source": [
    "#cheak the shape of the matrix\n",
    "arr_2.shape"
   ]
  },
  {
   "cell_type": "code",
   "execution_count": 7,
   "metadata": {},
   "outputs": [
    {
     "data": {
      "text/plain": [
       "dtype('int32')"
      ]
     },
     "execution_count": 7,
     "metadata": {},
     "output_type": "execute_result"
    }
   ],
   "source": [
    "#cheak data type of the array\n",
    "arr_2.dtype"
   ]
  },
  {
   "cell_type": "code",
   "execution_count": 8,
   "metadata": {},
   "outputs": [],
   "source": [
    "#some useful matrix\n",
    "zero_matrix=np.zeros(4)           #same for ones's and eye matrix"
   ]
  },
  {
   "cell_type": "code",
   "execution_count": 9,
   "metadata": {},
   "outputs": [
    {
     "data": {
      "text/plain": [
       "array([0., 0., 0., 0.])"
      ]
     },
     "execution_count": 9,
     "metadata": {},
     "output_type": "execute_result"
    }
   ],
   "source": [
    "zero_matrix"
   ]
  },
  {
   "cell_type": "code",
   "execution_count": 10,
   "metadata": {},
   "outputs": [
    {
     "name": "stdout",
     "output_type": "stream",
     "text": [
      "[11 12 14 12]\n",
      "[0.16111589 0.26608096 0.13111537 0.31881143 0.45857675]\n",
      "[-1.40846811 -0.29467357 -0.2226409  -0.65771914 -0.82320457 -0.65341036\n",
      " -1.25575388  0.79265864 -1.58754812  0.15910489 -0.14552973  0.15987276\n",
      "  1.65311118 -0.84098361 -0.13400247  0.91994345  1.26118353 -0.25700972\n",
      " -1.91062151  1.9220858   1.74342282  0.58581415  0.98542436 -0.63691472\n",
      " -0.20809607 -0.63604884 -0.36023045  0.85217397  0.39312507  0.02704465\n",
      "  0.44363671 -0.13273859  0.3895546   0.93503433  1.01941469 -0.33606048\n",
      " -0.74208865 -0.29597455  0.4998388   1.13418873]\n"
     ]
    }
   ],
   "source": [
    "rand_a=np.random.randint(1,15,4)            # 4 random numbers between 1 and 15\n",
    "print(rand_a)\n",
    "rand_b=np.random.rand(5)                    #  5 random numbers\n",
    "print(rand_b)\n",
    "rand_c=np.random.randn(40)                  # 40 negative and positive random numbers\n",
    "print(rand_c)"
   ]
  },
  {
   "cell_type": "code",
   "execution_count": 11,
   "metadata": {},
   "outputs": [
    {
     "data": {
      "text/plain": [
       "12.25"
      ]
     },
     "execution_count": 11,
     "metadata": {},
     "output_type": "execute_result"
    }
   ],
   "source": [
    "#calculate the mean\n",
    "np.mean(rand_a)  "
   ]
  },
  {
   "cell_type": "code",
   "execution_count": 12,
   "metadata": {},
   "outputs": [
    {
     "data": {
      "text/plain": [
       "array([[-1.40846811, -0.29467357, -0.2226409 , -0.65771914, -0.82320457,\n",
       "        -0.65341036, -1.25575388,  0.79265864, -1.58754812,  0.15910489],\n",
       "       [-0.14552973,  0.15987276,  1.65311118, -0.84098361, -0.13400247,\n",
       "         0.91994345,  1.26118353, -0.25700972, -1.91062151,  1.9220858 ],\n",
       "       [ 1.74342282,  0.58581415,  0.98542436, -0.63691472, -0.20809607,\n",
       "        -0.63604884, -0.36023045,  0.85217397,  0.39312507,  0.02704465],\n",
       "       [ 0.44363671, -0.13273859,  0.3895546 ,  0.93503433,  1.01941469,\n",
       "        -0.33606048, -0.74208865, -0.29597455,  0.4998388 ,  1.13418873]])"
      ]
     },
     "execution_count": 12,
     "metadata": {},
     "output_type": "execute_result"
    }
   ],
   "source": [
    "# data reshaping\n",
    "rand_c.reshape(4,10)        #multiplication of parameter should be 40. other possibilities are (10,4),(20,2)"
   ]
  },
  {
   "cell_type": "code",
   "execution_count": 13,
   "metadata": {},
   "outputs": [
    {
     "data": {
      "text/plain": [
       "array([1, 2, 3, 4, 5, 6, 7, 8, 9])"
      ]
     },
     "execution_count": 13,
     "metadata": {},
     "output_type": "execute_result"
    }
   ],
   "source": [
    "#create array with arange function\n",
    "arr_3= np.arange(1,10)  \n",
    "arr_3"
   ]
  },
  {
   "cell_type": "code",
   "execution_count": 14,
   "metadata": {},
   "outputs": [
    {
     "data": {
      "text/plain": [
       "9"
      ]
     },
     "execution_count": 14,
     "metadata": {},
     "output_type": "execute_result"
    }
   ],
   "source": [
    "#cheak the size of array\n",
    "arr_3.size"
   ]
  },
  {
   "cell_type": "code",
   "execution_count": 15,
   "metadata": {},
   "outputs": [
    {
     "data": {
      "text/plain": [
       "array([67, 93, 99, 18, 84, 58, 87, 98, 97, 48, 74, 33, 47, 97, 26, 84, 79,\n",
       "       37, 97, 81, 69, 50, 56, 68,  3, 85, 40, 67, 85, 48, 62, 49,  8, 93,\n",
       "       53, 98, 86, 95, 28, 35, 98, 77, 41,  4, 70, 65, 76, 35, 59, 11])"
      ]
     },
     "execution_count": 15,
     "metadata": {},
     "output_type": "execute_result"
    }
   ],
   "source": [
    "#seed function is used to create a same random number after every execution\n",
    "np.random.seed(123)\n",
    "rand_d=np.random.randint(1,100,50)\n",
    "rand_d"
   ]
  },
  {
   "cell_type": "code",
   "execution_count": 16,
   "metadata": {},
   "outputs": [
    {
     "data": {
      "text/plain": [
       "array([[[6, 2],\n",
       "        [4, 4],\n",
       "        [6, 3],\n",
       "        [0, 6],\n",
       "        [4, 7],\n",
       "        [6, 7],\n",
       "        [1, 5],\n",
       "        [7, 2],\n",
       "        [4, 8],\n",
       "        [1, 2]],\n",
       "\n",
       "       [[1, 1],\n",
       "        [3, 5],\n",
       "        [0, 8],\n",
       "        [1, 6],\n",
       "        [3, 3],\n",
       "        [5, 7],\n",
       "        [2, 3],\n",
       "        [3, 3],\n",
       "        [8, 6],\n",
       "        [7, 6]],\n",
       "\n",
       "       [[3, 6],\n",
       "        [6, 6],\n",
       "        [1, 3],\n",
       "        [4, 3],\n",
       "        [1, 0],\n",
       "        [5, 8],\n",
       "        [6, 8],\n",
       "        [1, 0],\n",
       "        [3, 1],\n",
       "        [3, 4]]])"
      ]
     },
     "execution_count": 16,
     "metadata": {},
     "output_type": "execute_result"
    }
   ],
   "source": [
    "#3d array\n",
    "rand_e = np.random.randint(0, 9, (3, 10, 2))\n",
    "rand_e"
   ]
  },
  {
   "cell_type": "code",
   "execution_count": 17,
   "metadata": {},
   "outputs": [
    {
     "name": "stdout",
     "output_type": "stream",
     "text": [
      "4\n",
      "[1 2 3 4]\n",
      "[2 4]\n",
      "[9 8 7 6 5 4 3 2 1]\n"
     ]
    }
   ],
   "source": [
    "#slicing in 1d array\n",
    "print(arr_3[3])    \n",
    "print(arr_3[0:4])     \n",
    "print(arr_3[1:4:2])   \n",
    "print(arr_3[::-1]) "
   ]
  },
  {
   "cell_type": "code",
   "execution_count": 18,
   "metadata": {},
   "outputs": [
    {
     "name": "stdout",
     "output_type": "stream",
     "text": [
      "2\n",
      "2\n",
      "[[ 1  2  3  4  5]\n",
      " [ 6  2  8  4 10]]\n",
      "[[1 2]\n",
      " [6 2]]\n",
      "[[ 1  2  3  4  5]\n",
      " [ 6  2  8  4 10]]\n"
     ]
    }
   ],
   "source": [
    "#slicing in 2d array\n",
    "print(arr_2[0][1])  \n",
    "print(arr_2[0,1])     \n",
    "print(arr_2[:2])     \n",
    "print(arr_2[:2,:2])         \n",
    "print(arr_2[:2])"
   ]
  },
  {
   "cell_type": "code",
   "execution_count": 19,
   "metadata": {},
   "outputs": [
    {
     "data": {
      "text/plain": [
       "array([ 6,  8, 10])"
      ]
     },
     "execution_count": 19,
     "metadata": {},
     "output_type": "execute_result"
    }
   ],
   "source": [
    "#apply condition\n",
    "arr_2[arr_2>5]"
   ]
  },
  {
   "cell_type": "code",
   "execution_count": 20,
   "metadata": {},
   "outputs": [
    {
     "name": "stdout",
     "output_type": "stream",
     "text": [
      "[[ 2  4  6  8 10]\n",
      " [12  4 16  8 20]]\n",
      "[[ 3  4  5  6  7]\n",
      " [ 8  4 10  6 12]]\n",
      "[[ 2  4  6  8 10]\n",
      " [ 7  4 11  8 15]]\n",
      "[[ 1  4  9 16 25]\n",
      " [ 6  4 24 16 50]]\n"
     ]
    }
   ],
   "source": [
    "#arithmetic operators\n",
    "print(arr_2* 2)\n",
    "print(arr_2+2)\n",
    "print(arr_1+arr_2)\n",
    "print(arr_1*arr_2)\n"
   ]
  },
  {
   "cell_type": "code",
   "execution_count": 21,
   "metadata": {},
   "outputs": [
    {
     "name": "stdout",
     "output_type": "stream",
     "text": [
      "15\n",
      "[1.         1.41421356 1.73205081 2.         2.23606798]\n",
      "[  2.71828183   7.3890561   20.08553692  54.59815003 148.4131591 ]\n",
      "[ 0.84147098  0.90929743  0.14112001 -0.7568025  -0.95892427]\n",
      "[ 0.54030231 -0.41614684 -0.9899925  -0.65364362  0.28366219]\n"
     ]
    }
   ],
   "source": [
    "# geometric functions\n",
    "print(np.sum(arr_1))\n",
    "print(np.sqrt(arr_1))\n",
    "print(np.exp(arr_1))\n",
    "print(np.sin(arr_1))\n",
    "print(np.cos(arr_1))"
   ]
  },
  {
   "cell_type": "code",
   "execution_count": 22,
   "metadata": {},
   "outputs": [
    {
     "name": "stdout",
     "output_type": "stream",
     "text": [
      "1\n",
      "5\n",
      "0\n",
      "4\n"
     ]
    }
   ],
   "source": [
    "#find the minimun and maximum values\n",
    "print(np.min(arr_1))\n",
    "print(np.max(arr_1))\n",
    "print(np.argmin(arr_1))         #return index of the min value\n",
    "print(np.argmax(arr_1))         #return the index of max value"
   ]
  },
  {
   "cell_type": "code",
   "execution_count": 23,
   "metadata": {},
   "outputs": [
    {
     "data": {
      "text/plain": [
       "array([ 1.        ,  2.55555556,  4.11111111,  5.66666667,  7.22222222,\n",
       "        8.77777778, 10.33333333, 11.88888889, 13.44444444, 15.        ])"
      ]
     },
     "execution_count": 23,
     "metadata": {},
     "output_type": "execute_result"
    }
   ],
   "source": [
    "#equally spaced array\n",
    "arr_4=np.linspace(1,15,10)\n",
    "arr_4"
   ]
  },
  {
   "cell_type": "code",
   "execution_count": 24,
   "metadata": {},
   "outputs": [
    {
     "name": "stdout",
     "output_type": "stream",
     "text": [
      "[1 2]\n",
      "[1 2 3 4 5]\n",
      "[ 7  4 11  8 15]\n"
     ]
    }
   ],
   "source": [
    "#axis=0 w.r.t column , axis=1 w.r.t row \n",
    "print(np.min(arr_2,axis=1)) \n",
    "print(np.min(arr_2,axis=0))\n",
    "print(np.sum(arr_2,axis=0))"
   ]
  },
  {
   "cell_type": "code",
   "execution_count": 25,
   "metadata": {},
   "outputs": [
    {
     "name": "stdout",
     "output_type": "stream",
     "text": [
      "[ 1  3  6 10 15 21 23 31 35 45]\n"
     ]
    }
   ],
   "source": [
    "# like a fabinoci series\n",
    "print(np.cumsum(arr_2)) "
   ]
  },
  {
   "cell_type": "code",
   "execution_count": 26,
   "metadata": {},
   "outputs": [
    {
     "name": "stdout",
     "output_type": "stream",
     "text": [
      "[0.13111537 0.16111589 0.26608096 0.31881143 0.45857675]\n"
     ]
    }
   ],
   "source": [
    "#return the unique values\n",
    "print(np.unique(rand_b)) "
   ]
  },
  {
   "cell_type": "code",
   "execution_count": 27,
   "metadata": {},
   "outputs": [],
   "source": [
    "arr_4=arr_4.reshape(2,5)"
   ]
  },
  {
   "cell_type": "code",
   "execution_count": 28,
   "metadata": {},
   "outputs": [
    {
     "name": "stdout",
     "output_type": "stream",
     "text": [
      "[[ 1.          2.          3.          4.          5.          1.\n",
      "   2.55555556  4.11111111  5.66666667  7.22222222]\n",
      " [ 6.          2.          8.          4.         10.          8.77777778\n",
      "  10.33333333 11.88888889 13.44444444 15.        ]]\n",
      "[[ 1.          2.          3.          4.          5.        ]\n",
      " [ 6.          2.          8.          4.         10.        ]\n",
      " [ 1.          2.55555556  4.11111111  5.66666667  7.22222222]\n",
      " [ 8.77777778 10.33333333 11.88888889 13.44444444 15.        ]]\n"
     ]
    }
   ],
   "source": [
    "#stacking\n",
    "print(np.hstack((arr_2,arr_4)))      #horizontal stack\n",
    "print(np.vstack((arr_2,arr_4)))      #vertical stack"
   ]
  },
  {
   "cell_type": "markdown",
   "metadata": {},
   "source": [
    "# numpy indexed"
   ]
  },
  {
   "cell_type": "code",
   "execution_count": 29,
   "metadata": {},
   "outputs": [],
   "source": [
    "#pip install numpy-indexed (uncomment this line to install the numy-indexed library)\n",
    "import numpy_indexed as ni"
   ]
  },
  {
   "cell_type": "code",
   "execution_count": 30,
   "metadata": {},
   "outputs": [
    {
     "data": {
      "text/plain": [
       "array([ 1,  3,  5,  6,  8, 10])"
      ]
     },
     "execution_count": 30,
     "metadata": {},
     "output_type": "execute_result"
    }
   ],
   "source": [
    "#remove same values from the arr_2\n",
    "ex =ni.exclusive(*arr_2)\n",
    "ex"
   ]
  },
  {
   "cell_type": "code",
   "execution_count": 31,
   "metadata": {},
   "outputs": [
    {
     "data": {
      "text/plain": [
       "array([ 1,  2,  3,  4,  5,  6,  8, 10])"
      ]
     },
     "execution_count": 31,
     "metadata": {},
     "output_type": "execute_result"
    }
   ],
   "source": [
    "#calculate union of arr_2\n",
    "ni.union(*arr_2)"
   ]
  },
  {
   "cell_type": "code",
   "execution_count": 32,
   "metadata": {},
   "outputs": [
    {
     "data": {
      "text/plain": [
       "array([0, 1, 2, 3, 4], dtype=int64)"
      ]
     },
     "execution_count": 32,
     "metadata": {},
     "output_type": "execute_result"
    }
   ],
   "source": [
    "#find the unique values of arr_2 and return the indicies of the same values in arr_1 and arr_2\n",
    "ni.indices(ni.union(*arr_2), arr_1)"
   ]
  },
  {
   "cell_type": "code",
   "execution_count": null,
   "metadata": {},
   "outputs": [],
   "source": []
  }
 ],
 "metadata": {
  "kernelspec": {
   "display_name": "Python 3",
   "language": "python",
   "name": "python3"
  },
  "language_info": {
   "codemirror_mode": {
    "name": "ipython",
    "version": 3
   },
   "file_extension": ".py",
   "mimetype": "text/x-python",
   "name": "python",
   "nbconvert_exporter": "python",
   "pygments_lexer": "ipython3",
   "version": "3.7.6"
  }
 },
 "nbformat": 4,
 "nbformat_minor": 4
}
